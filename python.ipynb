{
  "cells": [
    {
      "cell_type": "markdown",
      "metadata": {
        "id": "Nq2CMutMLbA9"
      },
      "source": [
        "# Основи Python\n",
        "\n",
        "## Завдання № 1\n",
        "Написати функцію з одним аргументом, яка перевіряє чи є аргумент парним чи непарним. Функція повинна повернути `even` або `odd` в залежності від того яке то число. Якщо аргумент `None` або не є числом -- необхідно повернути пусту строку."
      ]
    },
    {
      "cell_type": "code",
      "execution_count": 3,
      "metadata": {
        "colab": {
          "base_uri": "https://localhost:8080/"
        },
        "id": "za7IhGY0LbBB",
        "outputId": "2f59c337-ec31-4056-b1d8-ae53b604077f"
      },
      "outputs": [
        {
          "output_type": "stream",
          "name": "stdout",
          "text": [
            "odd\n",
            "even\n",
            "\n",
            "\n"
          ]
        }
      ],
      "source": [
        "from __future__ import annotations\n",
        "\n",
        "def is_even(arg):\n",
        "    if arg is None or not isinstance(arg, int):\n",
        "        return \"\"\n",
        "    elif arg % 2 == 0:\n",
        "        return \"even\"\n",
        "    else:\n",
        "        return \"odd\"\n",
        "\n",
        "# Приклади використання:\n",
        "print(is_even(5))\n",
        "print(is_even(10))\n",
        "print(is_even(None))\n",
        "print(is_even(\"test\"))"
      ]
    },
    {
      "cell_type": "markdown",
      "metadata": {
        "id": "-S1FevYhLbBD"
      },
      "source": [
        "## Завдання № 2\n",
        "Написати функцію, яка починає перебирати числа від 1 до нескінченності і перевіряє чи є число простим (просте число - те яке ділиться лише на 1 чи само на себе). Якщо просте число знайдене - воно додається до списку `numbers`. Після пʼятого знайденого простого числа функція повинна повернути суму всіх пʼяти простих чисел у списку."
      ]
    },
    {
      "cell_type": "code",
      "execution_count": 4,
      "metadata": {
        "colab": {
          "base_uri": "https://localhost:8080/"
        },
        "id": "TPLYa76TLbBE",
        "outputId": "4867e6a3-6f6e-484a-a0e9-5edbf5268f4c"
      },
      "outputs": [
        {
          "output_type": "stream",
          "name": "stdout",
          "text": [
            "28\n"
          ]
        }
      ],
      "source": [
        "from __future__ import annotations\n",
        "\n",
        "def sum_simple() -> int:\n",
        "    numbers = []\n",
        "    count = 0\n",
        "    num = 2\n",
        "    while count < 5:\n",
        "        if all(num % i != 0 for i in range(2, int(num ** 0.5) + 1)):\n",
        "            numbers.append(num)\n",
        "            count += 1\n",
        "        num += 1\n",
        "    return sum(numbers)\n",
        "print(sum_simple())"
      ]
    },
    {
      "cell_type": "markdown",
      "metadata": {
        "id": "FmXWo5fvLbBE"
      },
      "source": [
        "## Завдання № 3\n",
        "Написати функцію з одним аргументом `n`, що є числом. Функція повинна повернути суму наступного ряду з `n` чисел $1 + 11 + 111 + 1111 + ....$, де кожний елемент - число з постійно зростаючою кількістю одиниць.\n",
        "\n",
        "Наприклад:\n",
        "\n",
        "Ви передаєте в функцію аргумент `5`.\n",
        "\n",
        "Функція рахує сумму для ряду виду: $1 + 11 + 111 + 1111 + 11111$.\n",
        "\n",
        "В даному прикладі вона повинна повернути число `12345`"
      ]
    },
    {
      "cell_type": "code",
      "execution_count": 1,
      "metadata": {
        "colab": {
          "base_uri": "https://localhost:8080/"
        },
        "id": "1ijSoCL5LbBF",
        "outputId": "a2fb1633-1e56-41e8-85d0-7248a68a55d8"
      },
      "outputs": [
        {
          "output_type": "stream",
          "name": "stdout",
          "text": [
            "12345\n"
          ]
        }
      ],
      "source": [
        "from __future__ import annotations\n",
        "\n",
        "def sum_ones(n: int = 5) -> int:\n",
        "    total = 0\n",
        "    current = 0\n",
        "    for i in range(n):\n",
        "        current = current * 10 + 1\n",
        "        total += current\n",
        "    return total\n",
        "print(sum_ones(5))"
      ]
    },
    {
      "cell_type": "markdown",
      "metadata": {
        "id": "De1zP9p4LbBF"
      },
      "source": [
        "# Об’єктно-орієнтоване програмування за допомогою Python\n",
        "## Завдання №4\n",
        "\n",
        "Створити обʼктну модель організації.\n",
        "\n",
        "В організації повинно бути 3 типи робітників `Employee`: `Developer`, `Designer` & `Manager`.\n",
        "\n",
        "У кожного `Employee` повинні бути поля:\n",
        "- Імʼя - `name`\n",
        "- Призвіще - `surname`\n",
        "- Базова заробітна плата - `base_salary`\n",
        "- Досвід (у роках) - `experience`\n",
        "\n",
        "У `Designer` додатково повинен бути коефіцієнт ефективності `eff_coef`- число від 0 до 1, включно. Якщо коефіцієнт виходить за межі цього діапазону - необхідно поставити значення 0 (якщо він негативний) або 1 (якщо він більше 1).\n",
        "\n",
        "У `Manager` повинна бути команда (список) що складається з довільної кількості `Developer` та `Designer`.\n",
        "\n",
        "Створити обʼєкт `Department`, що містить список `Manager` (які в свою чергу містять команди).\n",
        "Department повинен мати метод give_salary() який повинен надрукувати зарплату ВСІХ `Employee` цієї організації в форматі __іʼмя призвіще отримав counted_salary шекєлей__.\n",
        "\n",
        "Зарплата `counted_salary` для кожного `Employee` обраховується з поля `base_salary` (базова заробітна плата) з наступними умовами:\n",
        "- якщо його досвід роботи більше 2 років, він отримує `base_salary + 200`, але якщо його досвід більше 5 років - він отримує `base_salary * 1.2 + 500`.\n",
        "- Додатково, на зп `Designer` впливає коефіцієнт ефективності `counted_salary * eff_coef`.\n",
        "- Додатково, зп Manager розраховується з `counted_salary` плюс:\n",
        "    - Якщо в його команді більше 5 людей - `counted_salary + 200`, але якщо в його команді більше 10 людей то `counted_salary + 300`.\n",
        "    - Якщо в його команді більше половини `Developer` - його кінцева зп збільшується ще на `10%`.\n",
        "\n",
        "Додаткова інформація:\n",
        "- Для використання методів з суперкласу можна використати метод `super()`.\n",
        "- Перевірити чи є об’єкт екземпляром класу можна за допомогою методу `isinstance`. Його перший агрументом - екземпляр класу, який ми перевіряємо, а другий - імʼя (_батьківського_) класу. Наприклад, для екземпляра автобуса що є транспортним засобом `print(isinstance(myBusInstance, Vehicle)` виведе true."
      ]
    },
    {
      "cell_type": "code",
      "execution_count": 7,
      "metadata": {
        "colab": {
          "base_uri": "https://localhost:8080/"
        },
        "id": "r9RMdqOdLbBG",
        "outputId": "bb63dbbd-4af0-4d5e-c91c-f27c670e2bbb"
      },
      "outputs": [
        {
          "output_type": "stream",
          "name": "stdout",
          "text": [
            "John Smith отримав 6700.0 шекелів\n",
            "\tMichael Davis отримав 3700 шекелів\n",
            "\tEmily Miller отримав 3100 шекелів\n",
            "\tDavid Taylor отримав 3500 шекелів\n",
            "\tEmma Martinez отримав 2450.0 шекелів\n",
            "\tOlivia Anderson отримав 3500 шекелів\n",
            "\tSophia Clark отримав 3060.0 шекелів\n",
            "Alice Johnson отримав 6270.0 шекелів\n",
            "\tTom Brown отримав 3200 шекелів\n",
            "\tAnna Wilson отримав 4340.0 шекелів\n",
            "\tJames Thomas отримав 4580.0 шекелів\n"
          ]
        }
      ],
      "source": [
        "from __future__ import annotations\n",
        "\n",
        "class Employee:\n",
        "    def __init__(self, name: str, surname: str, base_salary: float, experience: int) -> None:\n",
        "        self.name = name\n",
        "        self.surname = surname\n",
        "        self.base_salary = base_salary\n",
        "        self.experience = experience\n",
        "\n",
        "    def counted_salary(self) -> float:\n",
        "        if self.experience > 5:\n",
        "            return self.base_salary * 1.2 + 500\n",
        "        elif self.experience > 2:\n",
        "            return self.base_salary + 200\n",
        "        else:\n",
        "            return self.base_salary\n",
        "\n",
        "class Developer(Employee):\n",
        "    def __init__(self, name: str, surname: str, base_salary: float, experience: int) -> None:\n",
        "        super().__init__(name, surname, base_salary, experience)\n",
        "\n",
        "class Designer(Employee):\n",
        "    def __init__(self, name: str, surname: str, base_salary: float, experience: int, eff_coef: float) -> None:\n",
        "        super().__init__(name, surname, base_salary, experience)\n",
        "        if 0 <= eff_coef <= 1:\n",
        "            self.eff_coef = eff_coef\n",
        "        elif eff_coef < 0:\n",
        "            self.eff_coef = 0\n",
        "        else:\n",
        "            self.eff_coef = 1\n",
        "\n",
        "    def counted_salary(self) -> float:\n",
        "        return super().counted_salary() * self.eff_coef\n",
        "\n",
        "class Manager(Employee):\n",
        "    def __init__(self, name: str, surname: str, base_salary: float, experience: int, eff_coef: float) -> None:\n",
        "        super().__init__(name, surname, base_salary, experience)\n",
        "        self.team = []\n",
        "\n",
        "    def add_to_team(self, employee: Employee) -> None:\n",
        "        self.team.append(employee)\n",
        "\n",
        "    def counted_salary(self) -> float:\n",
        "        base_salary = super().counted_salary()\n",
        "        bonus = 0\n",
        "        if len(self.team) > 10:\n",
        "            bonus += 300\n",
        "        elif len(self.team) > 5:\n",
        "            bonus += 200\n",
        "        if sum(isinstance(emp, Developer) for emp in self.team) > len(self.team) / 2:\n",
        "            bonus += base_salary * 0.1\n",
        "        return base_salary + bonus\n",
        "\n",
        "class Department:\n",
        "    def __init__(self) -> None:\n",
        "        self.managers = []\n",
        "\n",
        "    def add_manager(self, manager: Manager) -> None:\n",
        "        self.managers.append(manager)\n",
        "\n",
        "    def give_salary(self) -> None:\n",
        "        for manager in self.managers:\n",
        "            print(f\"{manager.name} {manager.surname} отримав {manager.counted_salary()} шекелів\")\n",
        "            for employee in manager.team:\n",
        "                print(f\"\\t{employee.name} {employee.surname} отримав {employee.counted_salary()} шекелів\")\n",
        "\n",
        "# Приклад використання:\n",
        "department = Department()\n",
        "\n",
        "manager1 = Manager(\"John\", \"Smith\", 5000, 7, 0.9)\n",
        "manager2 = Manager(\"Alice\", \"Johnson\", 5500, 4, 0.8)\n",
        "\n",
        "developer1 = Developer(\"Tom\", \"Brown\", 3000, 3)\n",
        "developer2 = Developer(\"Anna\", \"Wilson\", 3200, 6)\n",
        "developer3 = Developer(\"Michael\", \"Davis\", 3500, 4)\n",
        "developer4 = Developer(\"Emily\", \"Miller\", 3100, 2)\n",
        "developer5 = Developer(\"David\", \"Taylor\", 3300, 5)\n",
        "\n",
        "designer1 = Designer(\"Emma\", \"Martinez\", 3500, 2, 0.7)\n",
        "designer2 = Designer(\"Olivia\", \"Anderson\", 3300, 5, 1.2)\n",
        "designer3 = Designer(\"Sophia\", \"Clark\", 3200, 3, 0.9)\n",
        "designer4 = Designer(\"James\", \"Thomas\", 3400, 6, 1.1)\n",
        "\n",
        "manager1.add_to_team(developer3)\n",
        "manager1.add_to_team(developer4)\n",
        "manager1.add_to_team(developer5)\n",
        "\n",
        "manager2.add_to_team(developer1)\n",
        "manager2.add_to_team(developer2)\n",
        "\n",
        "manager1.add_to_team(designer1)\n",
        "manager1.add_to_team(designer2)\n",
        "manager1.add_to_team(designer3)\n",
        "manager2.add_to_team(designer4)\n",
        "\n",
        "department.add_manager(manager1)\n",
        "department.add_manager(manager2)\n",
        "\n",
        "department.give_salary()"
      ]
    }
  ],
  "metadata": {
    "kernelspec": {
      "display_name": "venv",
      "language": "python",
      "name": "python3"
    },
    "language_info": {
      "name": "python",
      "version": "3.11.6"
    },
    "colab": {
      "provenance": []
    }
  },
  "nbformat": 4,
  "nbformat_minor": 0
}